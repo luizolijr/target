{
 "cells": [
  {
   "cell_type": "markdown",
   "id": "aa662e2e",
   "metadata": {
    "ExecuteTime": {
     "end_time": "2023-02-27T22:42:40.188640Z",
     "start_time": "2023-02-27T22:42:40.176121Z"
    }
   },
   "source": [
    "# Questão 2: Fibonacci"
   ]
  },
  {
   "cell_type": "code",
   "execution_count": 3,
   "id": "34877b73",
   "metadata": {
    "ExecuteTime": {
     "end_time": "2023-02-27T22:43:43.338325Z",
     "start_time": "2023-02-27T22:43:43.324971Z"
    }
   },
   "outputs": [
    {
     "data": {
      "text/plain": [
       "'O número 35 não está na sequência de Fibonacci'"
      ]
     },
     "execution_count": 3,
     "metadata": {},
     "output_type": "execute_result"
    }
   ],
   "source": [
    "def fibonacci(numero):\n",
    "    \n",
    "    if numero < 0:\n",
    "        return \"O número não pode ser negativo\"\n",
    "\n",
    "    a = 0\n",
    "    b = 1\n",
    "    while b < numero:\n",
    "        a, b = b, a + b\n",
    "    if b == numero or numero == 0:\n",
    "        return f'O número {numero} está na sequência de Fibonacci.'\n",
    "    else:\n",
    "        return f\"O número {numero} não está na sequência de Fibonacci\"\n",
    "    \n",
    "\n",
    "fibonacci(35)"
   ]
  },
  {
   "cell_type": "code",
   "execution_count": null,
   "id": "557f43dd",
   "metadata": {},
   "outputs": [],
   "source": []
  },
  {
   "cell_type": "markdown",
   "id": "6caa9952",
   "metadata": {
    "ExecuteTime": {
     "end_time": "2023-02-27T22:42:40.188640Z",
     "start_time": "2023-02-27T22:42:40.176121Z"
    }
   },
   "source": [
    "# Questão 3: Menor, Maior, Acima da Média"
   ]
  },
  {
   "cell_type": "code",
   "execution_count": 4,
   "id": "b839d8b6",
   "metadata": {
    "ExecuteTime": {
     "end_time": "2023-02-27T22:45:02.041897Z",
     "start_time": "2023-02-27T22:45:01.706914Z"
    }
   },
   "outputs": [
    {
     "name": "stdout",
     "output_type": "stream",
     "text": [
      "O menor valor de faturamento neste mês foi: R$374\n",
      "O maior valor de faturamento neste mês foi: R$48924\n",
      "Neste mês tivemos 10 dias com o faturamento acima da média mensal, foram eles os dias [1, 2, 3, 6, 8, 9, 16, 20, 21, 27]\n"
     ]
    },
    {
     "name": "stderr",
     "output_type": "stream",
     "text": [
      "C:\\Users\\luizjr\\AppData\\Local\\Temp\\ipykernel_19852\\2938449513.py:13: SettingWithCopyWarning: \n",
      "A value is trying to be set on a copy of a slice from a DataFrame.\n",
      "Try using .loc[row_indexer,col_indexer] = value instead\n",
      "\n",
      "See the caveats in the documentation: https://pandas.pydata.org/pandas-docs/stable/user_guide/indexing.html#returning-a-view-versus-a-copy\n",
      "  df_final['valor'] = df_final['valor'].round()\n",
      "C:\\Users\\luizjr\\AppData\\Local\\Temp\\ipykernel_19852\\2938449513.py:14: SettingWithCopyWarning: \n",
      "A value is trying to be set on a copy of a slice from a DataFrame.\n",
      "Try using .loc[row_indexer,col_indexer] = value instead\n",
      "\n",
      "See the caveats in the documentation: https://pandas.pydata.org/pandas-docs/stable/user_guide/indexing.html#returning-a-view-versus-a-copy\n",
      "  df_final['valor'] = df_final['valor'].astype(int)\n"
     ]
    }
   ],
   "source": [
    "import json\n",
    "import pandas as pd\n",
    "\n",
    "with open('C:\\TARGET\\dados.json') as arquivo:\n",
    "    \n",
    "    dados = json.load(arquivo)\n",
    "\n",
    "\n",
    "df = pd.DataFrame(dados)\n",
    "\n",
    "df_final = df.loc[df['valor'] != 0]\n",
    "\n",
    "df_final['valor'] = df_final['valor'].round()\n",
    "df_final['valor'] = df_final['valor'].astype(int)\n",
    "\n",
    "\n",
    "menor_valor = df_final['valor'].min()\n",
    "maior_valor = df_final['valor'].max()\n",
    "media_mensal = df_final['valor'].mean()\n",
    "faturamento_acima_media = df_final[df_final['valor'] > media_mensal]\n",
    "lista_dias = faturamento_acima_media['dia'].tolist()\n",
    "count = faturamento_acima_media['dia'].count()\n",
    "        \n",
    "\n",
    "print(f\"O menor valor de faturamento neste mês foi: R${menor_valor}\")\n",
    "print(f\"O maior valor de faturamento neste mês foi: R${maior_valor}\")\n",
    "print(f\"Neste mês tivemos {count} dias com o faturamento acima da média mensal, foram eles os dias {lista_dias}\")"
   ]
  },
  {
   "cell_type": "code",
   "execution_count": null,
   "id": "ce332a9b",
   "metadata": {},
   "outputs": [],
   "source": []
  },
  {
   "cell_type": "markdown",
   "id": "2c65c081",
   "metadata": {},
   "source": [
    "# Questão 4: Porcentagem por estados"
   ]
  },
  {
   "cell_type": "code",
   "execution_count": 5,
   "id": "4aa6ce8a",
   "metadata": {
    "ExecuteTime": {
     "end_time": "2023-02-27T22:45:42.239440Z",
     "start_time": "2023-02-27T22:45:42.225895Z"
    }
   },
   "outputs": [
    {
     "name": "stdout",
     "output_type": "stream",
     "text": [
      "SP representa 37.53% do total\n",
      "RJ representa 20.29% do total\n",
      "MG representa 16.17% do total\n",
      "ES representa 15.03% do total\n",
      "Outros representa 10.98% do total\n"
     ]
    }
   ],
   "source": [
    "valores = {'SP': 67836.43, 'RJ': 36678.66, 'MG': 29229.88, 'ES': 27165.48, 'Outros': 19849.53}\n",
    "\n",
    "total = sum(valores.values())\n",
    "\n",
    "porcentagens = {estado: (valor / total) * 100 for estado, valor in valores.items()}\n",
    "\n",
    "for estado, porcentagem in porcentagens.items():\n",
    "    print(f'{estado} representa {porcentagem:.2f}% do total')"
   ]
  },
  {
   "cell_type": "code",
   "execution_count": null,
   "id": "8edce2fa",
   "metadata": {},
   "outputs": [],
   "source": []
  },
  {
   "cell_type": "markdown",
   "id": "43236ffd",
   "metadata": {},
   "source": [
    "# Questão 5: Reverter string"
   ]
  },
  {
   "cell_type": "code",
   "execution_count": 6,
   "id": "7d2e949f",
   "metadata": {
    "ExecuteTime": {
     "end_time": "2023-02-27T22:46:13.024242Z",
     "start_time": "2023-02-27T22:46:13.008685Z"
    }
   },
   "outputs": [
    {
     "name": "stdout",
     "output_type": "stream",
     "text": [
      "!tegrat ,odnagehc ot\n"
     ]
    }
   ],
   "source": [
    "texto = 'to chegando, target!'\n",
    "inverso = texto[::-1]\n",
    "\n",
    "print(inverso)"
   ]
  },
  {
   "cell_type": "code",
   "execution_count": null,
   "id": "a0a6c6df",
   "metadata": {},
   "outputs": [],
   "source": []
  }
 ],
 "metadata": {
  "kernelspec": {
   "display_name": "Python 3 (ipykernel)",
   "language": "python",
   "name": "python3"
  },
  "language_info": {
   "codemirror_mode": {
    "name": "ipython",
    "version": 3
   },
   "file_extension": ".py",
   "mimetype": "text/x-python",
   "name": "python",
   "nbconvert_exporter": "python",
   "pygments_lexer": "ipython3",
   "version": "3.9.13"
  }
 },
 "nbformat": 4,
 "nbformat_minor": 5
}
